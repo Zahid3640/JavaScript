{
  "nbformat": 4,
  "nbformat_minor": 0,
  "metadata": {
    "colab": {
      "provenance": [],
      "authorship_tag": "ABX9TyMiQx9AEmhCNcFs8VHZvhOY",
      "include_colab_link": true
    },
    "kernelspec": {
      "name": "python3",
      "display_name": "Python 3"
    },
    "language_info": {
      "name": "python"
    }
  },
  "cells": [
    {
      "cell_type": "markdown",
      "metadata": {
        "id": "view-in-github",
        "colab_type": "text"
      },
      "source": [
        "<a href=\"https://colab.research.google.com/github/Zahid3640/JavaScript/blob/main/zahid.ipynb\" target=\"_parent\"><img src=\"https://colab.research.google.com/assets/colab-badge.svg\" alt=\"Open In Colab\"/></a>"
      ]
    },
    {
      "cell_type": "markdown",
      "source": [
        "                              NAME: ZAHID NAWAZ\n",
        "                              REG NO: FA20-BSE-021"
      ],
      "metadata": {
        "id": "PjRBIJz2L1Y0"
      }
    },
    {
      "cell_type": "markdown",
      "source": [
        "Activity 1:"
      ],
      "metadata": {
        "id": "Fe3T9rI5Kwwd"
      }
    },
    {
      "cell_type": "code",
      "source": [
        "mylist=[]\n",
        "for i in range(5):\n",
        " val=input(\"Enter number:\")\n",
        " mylist.append(val)\n",
        "\n",
        "print(\"the list is that:\")  \n",
        "print(mylist)  "
      ],
      "metadata": {
        "colab": {
          "base_uri": "https://localhost:8080/"
        },
        "id": "wMMsfwg8LFTe",
        "outputId": "64918f72-515f-43b5-aac6-44895eea347e"
      },
      "execution_count": null,
      "outputs": [
        {
          "output_type": "stream",
          "name": "stdout",
          "text": [
            "Enter number:3\n",
            "Enter number:5\n",
            "Enter number:7\n",
            "Enter number:3\n",
            "Enter number:2\n",
            "the list is that:\n",
            "['3', '5', '7', '3', '2']\n"
          ]
        }
      ]
    },
    {
      "cell_type": "markdown",
      "source": [
        "Activity 2:"
      ],
      "metadata": {
        "id": "J5UTroPLLd0F"
      }
    },
    {
      "cell_type": "code",
      "source": [
        "mylist=[]\n",
        "for i in range(5):\n",
        " val=input(\"Enter number:\")\n",
        " n=int(val)\n",
        " mylist.append(n)\n",
        "\n",
        "\n",
        "sum=0\n",
        "for n in mylist:\n",
        " sum=sum+n\n",
        "print(\"the sum of  list is that:\",sum)"
      ],
      "metadata": {
        "colab": {
          "base_uri": "https://localhost:8080/"
        },
        "id": "44Exs6xzLLX7",
        "outputId": "8039f41a-ddb6-4ef4-f1c3-54205cf04910"
      },
      "execution_count": null,
      "outputs": [
        {
          "output_type": "stream",
          "name": "stdout",
          "text": [
            "Enter number:3\n",
            "Enter number:1\n",
            "Enter number:8\n",
            "Enter number:3\n",
            "Enter number:1\n",
            "the sum of  list is that: 16\n"
          ]
        }
      ]
    },
    {
      "cell_type": "markdown",
      "source": [
        "Activity 3:"
      ],
      "metadata": {
        "id": "7MWzUg3LLoGz"
      }
    },
    {
      "cell_type": "code",
      "execution_count": null,
      "metadata": {
        "colab": {
          "base_uri": "https://localhost:8080/"
        },
        "id": "6lDatOdDuC-G",
        "outputId": "6c388ec8-0e67-4913-b01b-c61e1845b034"
      },
      "outputs": [
        {
          "output_type": "stream",
          "name": "stdout",
          "text": [
            "Enter number:4\n",
            "Enter number:8\n",
            "Enter number:4\n",
            "Enter number:9\n",
            "Enter number:apple\n",
            "the list is that:\n",
            "['4', '8', '4', '9', 'apple']\n"
          ]
        }
      ],
      "source": [
        "mylist=[]\n",
        "for i in range(5):\n",
        " val=input(\"Enter number:\")\n",
        " mylist.append(val)\n",
        "\n",
        "print(\"the list is that:\")  \n",
        "print(mylist)  "
      ]
    },
    {
      "cell_type": "code",
      "source": [],
      "metadata": {
        "id": "klFdwJnkK7nX"
      },
      "execution_count": null,
      "outputs": []
    },
    {
      "cell_type": "markdown",
      "source": [
        "Activity 4:\n",
        "Display Maximum."
      ],
      "metadata": {
        "id": "51QHS87p63_8"
      }
    },
    {
      "cell_type": "code",
      "source": [
        "mylist=[]\n",
        "for i in range(5):\n",
        "  val=input(\"enter number\")\n",
        "  n=int(val) \n",
        "  mylist.append(n)\n",
        "var=max(mylist)\n",
        "print(\"maximum number is that:\",var)"
      ],
      "metadata": {
        "colab": {
          "base_uri": "https://localhost:8080/"
        },
        "id": "8EbxLIyb5T1J",
        "outputId": "12143d97-1ced-4bdd-9651-3b5342c61079"
      },
      "execution_count": null,
      "outputs": [
        {
          "output_type": "stream",
          "name": "stdout",
          "text": [
            "enter number5\n",
            "enter number3\n",
            "enter number9\n",
            "enter number1\n",
            "enter number0\n",
            "maximum number is that: 9\n"
          ]
        }
      ]
    },
    {
      "cell_type": "markdown",
      "source": [
        "Activity 5:\n",
        "Display minimum."
      ],
      "metadata": {
        "id": "hAZdN_LL6-eD"
      }
    },
    {
      "cell_type": "code",
      "source": [
        "mylist=[]\n",
        "for i in range(5):\n",
        "  val=input(\"enter number\")\n",
        "  n=int(val) \n",
        "  mylist.append(n)\n",
        "var=min(mylist)\n",
        "print(\"minimum number is that:\",var)"
      ],
      "metadata": {
        "colab": {
          "base_uri": "https://localhost:8080/"
        },
        "id": "YkWwNSr57DUn",
        "outputId": "36f3ec11-c077-4046-f283-b7af20eadaf2"
      },
      "execution_count": null,
      "outputs": [
        {
          "output_type": "stream",
          "name": "stdout",
          "text": [
            "enter number3\n",
            "enter number2\n",
            "enter number8\n",
            "enter number0\n",
            "enter number2\n",
            "minimum number is that: 0\n"
          ]
        }
      ]
    },
    {
      "cell_type": "markdown",
      "source": [
        "Activity 6: Join to list.\n"
      ],
      "metadata": {
        "id": "O9yo9O879VuP"
      }
    },
    {
      "cell_type": "code",
      "source": [
        "mylist1=[]\n",
        "for i in range(5):\n",
        "  val=input(\"enter  value of first list.\")\n",
        "  n=int(val) \n",
        "  mylist1.append(n)\n",
        "mylist2=[]\n",
        "for i in range(5):\n",
        "  val=input(\"enter  value of second list.\")\n",
        "  n=int(val) \n",
        "  mylist2.append(n)\n",
        "list3=mylist1+mylist2\n",
        "print(\"join list is that:\",list3)"
      ],
      "metadata": {
        "colab": {
          "base_uri": "https://localhost:8080/"
        },
        "id": "unApZD4L9kr_",
        "outputId": "8638fc83-4193-4931-d4ac-c664d876c99d"
      },
      "execution_count": null,
      "outputs": [
        {
          "output_type": "stream",
          "name": "stdout",
          "text": [
            "enter  value of first list.2\n",
            "enter  value of first list.7\n",
            "enter  value of first list.9\n",
            "enter  value of first list.1\n",
            "enter  value of first list.8\n",
            "enter  value of second list.0\n",
            "enter  value of second list.4\n",
            "enter  value of second list.7\n",
            "enter  value of second list.9\n",
            "enter  value of second list.2\n",
            "join list is that: [2, 7, 9, 1, 8, 0, 4, 7, 9, 2]\n"
          ]
        }
      ]
    },
    {
      "cell_type": "markdown",
      "source": [
        "Activity 7: "
      ],
      "metadata": {
        "id": "vYkAM8g8_lpD"
      }
    },
    {
      "cell_type": "code",
      "source": [
        "mylist1=[]\n",
        "for i in range(5):\n",
        "  val=input(\"enter  value of first list.\")\n",
        "  n=int(val) \n",
        "  mylist1.append(n)\n",
        "print(mylist1)\n",
        "s=input(\"enter value that you find\")\n",
        "n=int(s)\n",
        "found=n in mylist1\n",
        "if found==True:\n",
        "  print(\"value is found\")\n",
        "else:\n",
        "  print(\"value is found\")\n",
        "\n",
        "\n",
        "\n"
      ],
      "metadata": {
        "colab": {
          "base_uri": "https://localhost:8080/"
        },
        "id": "88EAFbbj_nzS",
        "outputId": "d8bdf6e6-4eac-476c-d1c8-e008f5b95c84"
      },
      "execution_count": null,
      "outputs": [
        {
          "output_type": "stream",
          "name": "stdout",
          "text": [
            "enter  value of first list.2\n",
            "enter  value of first list.5\n",
            "enter  value of first list.9\n",
            "enter  value of first list.7\n",
            "enter  value of first list.2\n",
            "[2, 5, 9, 7, 2]\n",
            "enter value that you find2\n",
            "value is found\n"
          ]
        }
      ]
    },
    {
      "cell_type": "markdown",
      "source": [
        "Activity 8:"
      ],
      "metadata": {
        "id": "iy59fWX5CEQl"
      }
    },
    {
      "cell_type": "code",
      "source": [
        " \n",
        "def say_hello(n):\n",
        " print(\"hello\",n)\n",
        "\n",
        " mylist1=[]\n",
        "for i in range(3):\n",
        " n=input(\"enter  value of first list.\")\n",
        " say_hello(n)\n",
        "\n"
      ],
      "metadata": {
        "colab": {
          "base_uri": "https://localhost:8080/"
        },
        "id": "dhyrAauhCP-Y",
        "outputId": "7665a36e-897d-4a64-b1c7-b4065ef2cce4"
      },
      "execution_count": null,
      "outputs": [
        {
          "output_type": "stream",
          "name": "stdout",
          "text": [
            "enter  value of first list.zahid\n",
            "hello zahid\n",
            "enter  value of first list.ali\n",
            "hello ali\n",
            "enter  value of first list.asim\n",
            "hello asim\n"
          ]
        }
      ]
    },
    {
      "cell_type": "markdown",
      "source": [
        "\n",
        "Activity 9:"
      ],
      "metadata": {
        "id": "c7aQmLGkHsAL"
      }
    },
    {
      "cell_type": "code",
      "source": [
        "def ispalindrome(word):\n",
        " temp=word[::-1]\n",
        " if temp.capitalize()==word.capitalize():\n",
        "   return True\n",
        " else:\n",
        "   return False\n",
        "print(ispalindrome(\"deed\"))\n",
        "\n",
        "\n"
      ],
      "metadata": {
        "colab": {
          "base_uri": "https://localhost:8080/"
        },
        "id": "tu53aWFhHxS9",
        "outputId": "3b9d20e8-d0d9-442d-8f0e-06eb680ce37e"
      },
      "execution_count": null,
      "outputs": [
        {
          "output_type": "stream",
          "name": "stdout",
          "text": [
            "True\n"
          ]
        }
      ]
    },
    {
      "cell_type": "markdown",
      "source": [],
      "metadata": {
        "id": "Jm4Obr8EKvO-"
      }
    }
  ]
}